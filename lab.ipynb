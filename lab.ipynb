{
 "cells": [
  {
   "cell_type": "markdown",
   "metadata": {},
   "source": [
    "#####  挑战1：完成步骤一中的环境配置，使可以进行步骤二中的节点编码。\n",
    "#####  挑战2：代码漏洞检测是一个图级的二分类问题，它在对图节点编码的基础上，进一步得到图级的编码。\n",
    "#####        实现一个Readout层(src/process/model.py)，从节点编码得到代码图的编码表示，从而可以完成步骤三中的模型训练和评估。\n",
    "#####  挑战3：在使用所有训练数据条件下，修改代码的图表示或者模型，使模型的预测准确率达到55%以上(此挑战会根据准确率的提升酌情加分,最高满分)。\n",
    "#####       "
   ]
  },
  {
   "cell_type": "code",
   "execution_count": null,
   "metadata": {},
   "outputs": [],
   "source": [
    "# 一.环境安装\n",
    "# 安装并激活python环境, 已经验证的版本是3.7.2\n",
    "!python --version \n",
    "!conda create -n devign python=3.7.2 #此命令不要重复执行，成功后可注释掉\n",
    "!conda activate devign    \n",
    "# 根据当前机器的情况安装torch、torch-geometric、torch-sparse 和 torch-scatter\n",
    "#   具体安装方法参考 https://pytorch.org/get-started/locally/ \n",
    "# 安装当前试验所依赖的python包\n",
    "!pip install -r requirements.txt"
   ]
  },
  {
   "cell_type": "code",
   "execution_count": null,
   "metadata": {},
   "outputs": [],
   "source": [
    "# 原始的代码数据集存放在 data/raw (Paths.raw)中\n",
    "# 每一条数据包含：\n",
    "# project名，commit_id，target（是否为漏洞代码），func（函数代码文本）\n",
    "# 我们探索一下原始数据的构成\n",
    "import pandas as pd\n",
    "dataset = pd.read_json(\"data/raw/dataset.json\")\n",
    "dataset.head(5)"
   ]
  },
  {
   "cell_type": "code",
   "execution_count": null,
   "metadata": {},
   "outputs": [],
   "source": [
    "# 使用joern工具将代码数据转化为CPG图\n",
    "# 生成过程比较慢而且需要安装环境，在此省略\n",
    "# 感兴趣的同学可以了解一下joern： https://docs.joern.io/home\n",
    "# 生成的代码图数据存放在data/cpg (Paths.cpg)中，其中每100条数据写入一个文件\n",
    "# 解压代码图数据\n",
    "!tar -xvzf cpg.tar.gz\n"
   ]
  },
  {
   "cell_type": "code",
   "execution_count": null,
   "metadata": {},
   "outputs": [],
   "source": [
    "# 二.图节点代码文本编码\n",
    "# 训练用于编码节点中文本的word2vec模型，并对节点的文本进行编码\n",
    "import main\n",
    "main.setup()\n",
    "main.embed_task()"
   ]
  },
  {
   "cell_type": "code",
   "execution_count": null,
   "metadata": {},
   "outputs": [],
   "source": [
    "# 三.模型训练和验证\n",
    "main.process_task(True, False)"
   ]
  }
 ],
 "metadata": {
  "kernelspec": {
   "display_name": "Python 3.6.0 ('devign')",
   "language": "python",
   "name": "python3"
  },
  "language_info": {
   "codemirror_mode": {
    "name": "ipython",
    "version": 3
   },
   "file_extension": ".py",
   "mimetype": "text/x-python",
   "name": "python",
   "nbconvert_exporter": "python",
   "pygments_lexer": "ipython3",
   "version": "3.7.2"
  },
  "orig_nbformat": 4,
  "vscode": {
   "interpreter": {
    "hash": "fe92802436f3b6fdcf13a5e1be3c70c9006e1b2a17e4adb5b5980b4305bb4040"
   }
  }
 },
 "nbformat": 4,
 "nbformat_minor": 2
}
